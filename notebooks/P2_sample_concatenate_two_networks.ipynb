{
  "nbformat": 4,
  "nbformat_minor": 0,
  "metadata": {
    "colab": {
      "provenance": [],
      "authorship_tag": "ABX9TyPwNO5b1UQ9CKVO36do00dg",
      "include_colab_link": true
    },
    "kernelspec": {
      "name": "python3",
      "display_name": "Python 3"
    },
    "language_info": {
      "name": "python"
    }
  },
  "cells": [
    {
      "cell_type": "markdown",
      "metadata": {
        "id": "view-in-github",
        "colab_type": "text"
      },
      "source": [
        "<a href=\"https://colab.research.google.com/github/felixzhao/AIML425-ASSN-2/blob/main/P2_sample_concatenate_two_networks.ipynb\" target=\"_parent\"><img src=\"https://colab.research.google.com/assets/colab-badge.svg\" alt=\"Open In Colab\"/></a>"
      ]
    },
    {
      "cell_type": "code",
      "execution_count": 1,
      "metadata": {
        "id": "Si8R-n3-oCuL"
      },
      "outputs": [],
      "source": [
        "import torch\n",
        "import torch.nn as nn\n",
        "\n",
        "# Provided code\n",
        "class Net(nn.Module):\n",
        "    def __init__(self):\n",
        "        super(Net, self).__init__()\n",
        "        self.fc1 = nn.Linear(2, 128)\n",
        "        self.fc2 = nn.Linear(128, 128)\n",
        "        self.fc3 = nn.Linear(128, 2)\n",
        "\n",
        "    def forward(self, x):\n",
        "        x = torch.relu(self.fc1(x))\n",
        "        x = torch.relu(self.fc2(x))\n",
        "        x = torch.sigmoid(self.fc3(x))\n",
        "        return x\n",
        "\n",
        "# Define the combined neural network\n",
        "class CombinedNet(nn.Module):\n",
        "    def __init__(self, f1, f2):\n",
        "        super(CombinedNet, self).__init__()\n",
        "        self.f1 = f1\n",
        "        self.f2 = f2\n",
        "\n",
        "    def forward(self, x):\n",
        "        x = self.f1(x)  # Pass through f1\n",
        "        x = self.f2(x)  # Pass through f2\n",
        "        return x\n",
        "\n",
        "# Initialize two instances of the original Net\n",
        "f1 = Net()\n",
        "f2 = Net()\n",
        "\n",
        "# Initialize the combined network\n",
        "combined_net = CombinedNet(f1, f2)\n"
      ]
    },
    {
      "cell_type": "code",
      "source": [],
      "metadata": {
        "id": "IoNivg7zoD72"
      },
      "execution_count": null,
      "outputs": []
    }
  ]
}